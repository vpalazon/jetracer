{
 "cells": [
  {
   "cell_type": "markdown",
   "id": "1a2ce460-0532-4253-82c9-973dfe6a78cf",
   "metadata": {},
   "source": [
    "# 1. Dataset con círculos"
   ]
  },
  {
   "cell_type": "code",
   "execution_count": 1,
   "id": "1bb4d110-01f1-40ff-93fa-ff0fec97eb63",
   "metadata": {},
   "outputs": [],
   "source": [
    "import cv2\n",
    "import numpy as np\n",
    "import torch\n",
    "from torch.utils.data import Dataset\n",
    "\n",
    "class CircleDataset(Dataset):\n",
    "    def __init__(self, num_samples=1000, img_size=64):\n",
    "        self.samples = []\n",
    "        self.labels = []\n",
    "        self.img_size = img_size\n",
    "\n",
    "        for _ in range(num_samples):\n",
    "            img = np.zeros((img_size, img_size), dtype=np.float32)\n",
    "\n",
    "            # Centro aleatorio del círculo\n",
    "            x = np.random.randint(8, img_size - 8)\n",
    "            y = np.random.randint(8, img_size - 8)\n",
    "            # radius = np.random.randint(3, 6)\n",
    "            radius = 6\n",
    "\n",
    "            # Dibujar el círculo\n",
    "            cv2.circle(img, (x, y), radius, 1.0, -1)  # -1 = relleno\n",
    "\n",
    "            self.samples.append(img)\n",
    "            self.labels.append([x / img_size, y / img_size])  # Normalizado\n",
    "\n",
    "    def __len__(self):\n",
    "        return len(self.samples)\n",
    "\n",
    "    def __getitem__(self, idx):\n",
    "        img = self.samples[idx][None, :, :]  # (1, H, W)\n",
    "        label = self.labels[idx]\n",
    "        return torch.tensor(img), torch.tensor(label, dtype=torch.float32)\n"
   ]
  },
  {
   "cell_type": "markdown",
   "id": "2fcd2262-a0b7-45dd-a644-0089d7c5623f",
   "metadata": {},
   "source": [
    "# 2. Definir la Red Neuronal con ResNet-18"
   ]
  },
  {
   "cell_type": "code",
   "execution_count": 2,
   "id": "e12a77e3-cd0f-44eb-b2bc-b86b6ffb1ef8",
   "metadata": {},
   "outputs": [],
   "source": [
    "import torch.nn as nn\n",
    "from torchvision import models\n",
    "\n",
    "class ResNet18Regressor(nn.Module):\n",
    "    def __init__(self):\n",
    "        super().__init__()\n",
    "        self.model = models.resnet18(pretrained=True)\n",
    "        \n",
    "        # Adaptar la primera capa para imágenes en escala de grises (1 canal)\n",
    "        self.model.conv1 = nn.Conv2d(1, 64, kernel_size=7, stride=2, padding=3, bias=False)\n",
    "        \n",
    "        # Reemplazar la capa final por una capa lineal que da 2 valores (x, y)\n",
    "        self.model.fc = nn.Sequential(\n",
    "            nn.Linear(self.model.fc.in_features, 2),\n",
    "            nn.Sigmoid()\n",
    "        )\n",
    "\n",
    "    def forward(self, x):\n",
    "        return self.model(x)\n",
    "\n"
   ]
  },
  {
   "cell_type": "markdown",
   "id": "b5f8c901-7680-4dd6-8175-966169a12785",
   "metadata": {},
   "source": [
    "# 3. Entrenamiento"
   ]
  },
  {
   "cell_type": "code",
   "execution_count": 3,
   "id": "507d1fe3-fb68-48c2-a3b7-791fa266b9f5",
   "metadata": {},
   "outputs": [
    {
     "name": "stderr",
     "output_type": "stream",
     "text": [
      "/home/vpalazon/project/notebookenv/lib/python3.12/site-packages/torchvision/models/_utils.py:208: UserWarning: The parameter 'pretrained' is deprecated since 0.13 and may be removed in the future, please use 'weights' instead.\n",
      "  warnings.warn(\n",
      "/home/vpalazon/project/notebookenv/lib/python3.12/site-packages/torchvision/models/_utils.py:223: UserWarning: Arguments other than a weight enum or `None` for 'weights' are deprecated since 0.13 and may be removed in the future. The current behavior is equivalent to passing `weights=ResNet18_Weights.IMAGENET1K_V1`. You can also use `weights=ResNet18_Weights.DEFAULT` to get the most up-to-date weights.\n",
      "  warnings.warn(msg)\n"
     ]
    },
    {
     "name": "stdout",
     "output_type": "stream",
     "text": [
      "Epoch 1, Loss: 0.0515\n",
      "Epoch 2, Loss: 0.0362\n",
      "Epoch 3, Loss: 0.0075\n",
      "Epoch 4, Loss: 0.0070\n",
      "Epoch 5, Loss: 0.0121\n",
      "Epoch 6, Loss: 0.0205\n",
      "Epoch 7, Loss: 0.0084\n",
      "Epoch 8, Loss: 0.0025\n",
      "Epoch 9, Loss: 0.0048\n",
      "Epoch 10, Loss: 0.0015\n"
     ]
    }
   ],
   "source": [
    "import torch.optim as optim\n",
    "\n",
    "# Inicializar dataset, dataloader y el modelo\n",
    "dataset = CircleDataset(num_samples=1000)\n",
    "dataloader = torch.utils.data.DataLoader(dataset, batch_size=32, shuffle=True)\n",
    "\n",
    "model = ResNet18Regressor()\n",
    "optimizer = optim.Adam(model.parameters(), lr=0.001)\n",
    "loss_fn = nn.MSELoss()\n",
    "\n",
    "# Entrenamiento del modelo\n",
    "for epoch in range(10):  # 10 épocas, puedes ajustar el número\n",
    "    model.train()\n",
    "    for imgs, labels in dataloader:\n",
    "        preds = model(imgs)\n",
    "        loss = loss_fn(preds, labels)\n",
    "        optimizer.zero_grad()\n",
    "        loss.backward()\n",
    "        optimizer.step()\n",
    "    print(f\"Epoch {epoch+1}, Loss: {loss.item():.4f}\")\n",
    "\n"
   ]
  },
  {
   "cell_type": "markdown",
   "id": "ba93b5fb-ad9d-4e74-adb2-4f01d46ad4f7",
   "metadata": {},
   "source": [
    "# 4. Visualización de la predicción"
   ]
  },
  {
   "cell_type": "code",
   "execution_count": 5,
   "id": "7a29a41c-a6f3-4332-9902-ca9cf193ec05",
   "metadata": {},
   "outputs": [
    {
     "name": "stderr",
     "output_type": "stream",
     "text": [
      "/tmp/ipykernel_2563/3257056860.py:12: DeprecationWarning: __array__ implementation doesn't accept a copy keyword, so passing copy=False failed. __array__ must implement 'dtype' and 'copy' keyword arguments. To learn more, see the migration guide https://numpy.org/devdocs/numpy_2_0_migration_guide.html#adapting-to-changes-in-the-copy-keyword\n",
      "  true_x, true_y = (np.array(test_label) * dataset.img_size).astype(int)\n"
     ]
    },
    {
     "data": {
      "image/png": "[encoded data removed]",
      "text/plain": [
       "<Figure size 640x480 with 1 Axes>"
      ]
     },
     "metadata": {},
     "output_type": "display_data"
    }
   ],
   "source": [
    "import matplotlib.pyplot as plt\n",
    "\n",
    "# Tomar una imagen de prueba\n",
    "test_img, test_label = dataset[0]\n",
    "model.eval()\n",
    "with torch.no_grad():\n",
    "    pred = model(test_img.unsqueeze(0)).squeeze().numpy()\n",
    "\n",
    "# Extraer coordenadas predichas y reales\n",
    "img = test_img.squeeze().numpy()\n",
    "pred_x, pred_y = (pred * dataset.img_size).astype(int)\n",
    "true_x, true_y = (np.array(test_label) * dataset.img_size).astype(int)\n",
    "\n",
    "# Mostrar imagen con las coordenadas reales y predichas\n",
    "plt.imshow(img, cmap='gray')\n",
    "plt.scatter([true_x], [true_y], c='green', label='Real')\n",
    "plt.scatter([pred_x], [pred_y], c='red', label='Predicción')\n",
    "plt.legend()\n",
    "plt.title(\"Predicción del centro del círculo\")\n",
    "plt.show()"
   ]
  },
  {
   "cell_type": "code",
   "execution_count": null,
   "id": "9c9bf8c0-5f20-46b7-a6b5-099af22e6b1e",
   "metadata": {},
   "outputs": [],
   "source": []
  }
 ],
 "metadata": {
  "kernelspec": {
   "display_name": "Python 3 (ipykernel)",
   "language": "python",
   "name": "python3"
  },
  "language_info": {
   "codemirror_mode": {
    "name": "ipython",
    "version": 3
   },
   "file_extension": ".py",
   "mimetype": "text/x-python",
   "name": "python",
   "nbconvert_exporter": "python",
   "pygments_lexer": "ipython3",
   "version": "3.12.3"
  }
 },
 "nbformat": 4,
 "nbformat_minor": 5
}
